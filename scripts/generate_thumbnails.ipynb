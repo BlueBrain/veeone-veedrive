{
 "cells": [
  {
   "cell_type": "code",
   "execution_count": null,
   "id": "3382adc2",
   "metadata": {
    "pycharm": {
     "name": "#%%\n"
    }
   },
   "outputs": [],
   "source": [
    "import time\n",
    "import random\n",
    "from aiomultiprocess import Pool\n",
    "\n",
    "from veedrive.content.utils import create_cache_subfolders\n",
    "\n",
    "from create_thumbnail_cache import get_all_supported_files, chunk, generate_thumbnails\n",
    "\n",
    "# MEDIA_PATH = \"/nfs4/bbp.epfl.ch/media/DisplayWall/hpc/library/\"\n",
    "MEDIA_PATH = \"/nfs4/bbp.epfl.ch/media/DisplayWall\"\n",
    "\n",
    "CACHE_FOLDER = \"/tmp/3\"\n",
    "# CACHE_FOLDER = \"/nfs4/bbp.epfl.ch/media/DisplayWall/cache\"\n",
    "files =  get_all_supported_files(MEDIA_PATH)\n",
    "\n",
    "random.shuffle(files)\n",
    "no_cpu = 72\n",
    "print(f\"[INFO] No of files to generate: {len(files)}\")\n",
    "number_of_files = len(files)\n",
    "\n",
    "if number_of_files < no_cpu:\n",
    "    no_cpu = number_of_files\n",
    "\n",
    "chunk_size = 1\n",
    "print(f\"[INFO] chunk size  is {chunk_size}\")\n",
    "chunked_list = list(chunk(files, chunk_size))\n",
    "\n",
    "print(f\"[INFO] number of chunks is {len(chunked_list)}\")\n",
    "\n",
    "create_cache_subfolders(CACHE_FOLDER)\n",
    "\n",
    "print(f\"[INFO] starting with {no_cpu} cpu\")\n",
    "pool = Pool(processes=no_cpu)\n",
    "\n",
    "tt = [(x, MEDIA_PATH, CACHE_FOLDER) for x in chunked_list]\n",
    "\n",
    "t_start = time.perf_counter()\n",
    "\n",
    "await pool.starmap(\n",
    "    generate_thumbnails, [(x, MEDIA_PATH, CACHE_FOLDER) for x in chunked_list]\n",
    ")\n",
    "\n",
    "pool.terminate()\n",
    "\n",
    "print(f\"[INFO] Elapsed time is {time.perf_counter() - t_start} seconds\")\n"
   ]
  },
  {
   "cell_type": "code",
   "execution_count": null,
   "id": "fec37760",
   "metadata": {
    "pycharm": {
     "name": "#%%\n"
    }
   },
   "outputs": [],
   "source": [
    "t_start=time.perf_counter()\n",
    "\n",
    "await pool.starmap(generate_thumbnails, [(x, MEDIA_PATH, CACHE_FOLDER) for x in chunked_list])\n",
    "pool.terminate()\n",
    "print(f\"Elapsed time is {time.perf_counter() - t_start} seconds\")  \n",
    "pool.terminate()\n"
   ]
  }
 ],
 "metadata": {
  "kernelspec": {
   "display_name": "veedrive",
   "language": "python",
   "name": "veedrive"
  },
  "language_info": {
   "codemirror_mode": {
    "name": "ipython",
    "version": 3
   },
   "file_extension": ".py",
   "mimetype": "text/x-python",
   "name": "python",
   "nbconvert_exporter": "python",
   "pygments_lexer": "ipython3",
   "version": "3.8.10"
  }
 },
 "nbformat": 4,
 "nbformat_minor": 5
}